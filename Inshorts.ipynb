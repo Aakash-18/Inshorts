{
  "cells": [
    {
      "cell_type": "markdown",
      "metadata": {
        "id": "view-in-github",
        "colab_type": "text"
      },
      "source": [
        "<a href=\"https://colab.research.google.com/github/Aakash-18/Inshorts/blob/main/Inshorts.ipynb\" target=\"_parent\"><img src=\"https://colab.research.google.com/assets/colab-badge.svg\" alt=\"Open In Colab\"/></a>"
      ]
    },
    {
      "cell_type": "code",
      "execution_count": null,
      "metadata": {
        "colab": {
          "base_uri": "https://localhost:8080/"
        },
        "id": "ImPCIsrTE5sF",
        "outputId": "d6446a40-c1b0-485e-caed-ffc3ddde805c"
      },
      "outputs": [
        {
          "output_type": "stream",
          "name": "stdout",
          "text": [
            "Mounted at /content/drive\n"
          ]
        }
      ],
      "source": [
        "from google.colab import drive\n",
        "drive.mount('/content/drive')"
      ]
    },
    {
      "cell_type": "code",
      "execution_count": null,
      "metadata": {
        "id": "Zbxhyl_zFlWL"
      },
      "outputs": [],
      "source": [
        "import pandas as pd\n",
        "import numpy as np\n",
        "import tensorflow as tf\n",
        "import time\n",
        "import re\n",
        "import pickle"
      ]
    },
    {
      "cell_type": "markdown",
      "metadata": {
        "id": "yH5cg5pSIHaZ"
      },
      "source": [
        "### Loading Data"
      ]
    },
    {
      "cell_type": "markdown",
      "source": [
        "Using Inshorts Dataset"
      ],
      "metadata": {
        "id": "mhohg9LP5Bix"
      }
    },
    {
      "cell_type": "code",
      "execution_count": null,
      "metadata": {
        "id": "K_AjGkWXITKA"
      },
      "outputs": [],
      "source": [
        "news = pd.read_excel(\"/content/drive/MyDrive/nlp-package-2-data/news.xlsx\")"
      ]
    },
    {
      "cell_type": "code",
      "execution_count": null,
      "metadata": {
        "id": "S-rYZhayIe9x"
      },
      "outputs": [],
      "source": [
        "news.drop(['Source ', 'Time ', 'Publish Date'], axis=1, inplace=True)"
      ]
    },
    {
      "cell_type": "code",
      "execution_count": null,
      "metadata": {
        "colab": {
          "base_uri": "https://localhost:8080/",
          "height": 206
        },
        "id": "oXtxc-toIc94",
        "outputId": "d39eac33-f967-492d-e6f7-a2331bb638c0"
      },
      "outputs": [
        {
          "data": {
            "text/html": [
              "<div>\n",
              "<style scoped>\n",
              "    .dataframe tbody tr th:only-of-type {\n",
              "        vertical-align: middle;\n",
              "    }\n",
              "\n",
              "    .dataframe tbody tr th {\n",
              "        vertical-align: top;\n",
              "    }\n",
              "\n",
              "    .dataframe thead th {\n",
              "        text-align: right;\n",
              "    }\n",
              "</style>\n",
              "<table border=\"1\" class=\"dataframe\">\n",
              "  <thead>\n",
              "    <tr style=\"text-align: right;\">\n",
              "      <th></th>\n",
              "      <th>Headline</th>\n",
              "      <th>Short</th>\n",
              "    </tr>\n",
              "  </thead>\n",
              "  <tbody>\n",
              "    <tr>\n",
              "      <th>0</th>\n",
              "      <td>4 ex-bank officials booked for cheating bank o...</td>\n",
              "      <td>The CBI on Saturday booked four former officia...</td>\n",
              "    </tr>\n",
              "    <tr>\n",
              "      <th>1</th>\n",
              "      <td>Supreme Court to go paperless in 6 months: CJI</td>\n",
              "      <td>Chief Justice JS Khehar has said the Supreme C...</td>\n",
              "    </tr>\n",
              "    <tr>\n",
              "      <th>2</th>\n",
              "      <td>At least 3 killed, 30 injured in blast in Sylh...</td>\n",
              "      <td>At least three people were killed, including a...</td>\n",
              "    </tr>\n",
              "    <tr>\n",
              "      <th>3</th>\n",
              "      <td>Why has Reliance been barred from trading in f...</td>\n",
              "      <td>Mukesh Ambani-led Reliance Industries (RIL) wa...</td>\n",
              "    </tr>\n",
              "    <tr>\n",
              "      <th>4</th>\n",
              "      <td>Was stopped from entering my own studio at Tim...</td>\n",
              "      <td>TV news anchor Arnab Goswami has said he was t...</td>\n",
              "    </tr>\n",
              "  </tbody>\n",
              "</table>\n",
              "</div>"
            ],
            "text/plain": [
              "                                            Headline                                              Short\n",
              "0  4 ex-bank officials booked for cheating bank o...  The CBI on Saturday booked four former officia...\n",
              "1     Supreme Court to go paperless in 6 months: CJI  Chief Justice JS Khehar has said the Supreme C...\n",
              "2  At least 3 killed, 30 injured in blast in Sylh...  At least three people were killed, including a...\n",
              "3  Why has Reliance been barred from trading in f...  Mukesh Ambani-led Reliance Industries (RIL) wa...\n",
              "4  Was stopped from entering my own studio at Tim...  TV news anchor Arnab Goswami has said he was t..."
            ]
          },
          "execution_count": 5,
          "metadata": {
            "tags": []
          },
          "output_type": "execute_result"
        }
      ],
      "source": [
        "news.head()"
      ]
    },
    {
      "cell_type": "code",
      "execution_count": null,
      "metadata": {
        "colab": {
          "base_uri": "https://localhost:8080/",
          "height": 34
        },
        "id": "vR2hg9themaN",
        "outputId": "53a9c60b-3eb2-4f53-9ee5-a427a9f1f1d7"
      },
      "outputs": [
        {
          "data": {
            "text/plain": [
              "(55104, 2)"
            ]
          },
          "execution_count": 6,
          "metadata": {
            "tags": []
          },
          "output_type": "execute_result"
        }
      ],
      "source": [
        "news.shape"
      ]
    },
    {
      "cell_type": "code",
      "execution_count": null,
      "metadata": {
        "id": "d4cEp3wmI2BX"
      },
      "outputs": [],
      "source": [
        "document = news['Short']\n",
        "summary = news['Headline']"
      ]
    },
    {
      "cell_type": "code",
      "execution_count": null,
      "metadata": {
        "colab": {
          "base_uri": "https://localhost:8080/",
          "height": 72
        },
        "id": "2z55AhpKIdK7",
        "outputId": "ed19e222-2f75-4a6b-d83b-6f021544d9aa"
      },
      "outputs": [
        {
          "data": {
            "text/plain": [
              "('According to the Guinness World Records, the most generations alive in a single family have been seven.  The difference between the oldest and the youngest person in the family was about 109 years, when Augusta Bunge&#39;s great-great-great-great grandson was born on January 21, 1989. The family belonged to the United States of America.',\n",
              " 'The most generations alive in a single family have been 7')"
            ]
          },
          "execution_count": 8,
          "metadata": {
            "tags": []
          },
          "output_type": "execute_result"
        }
      ],
      "source": [
        "document[30], summary[30]"
      ]
    },
    {
      "cell_type": "markdown",
      "metadata": {
        "id": "f8gKyq1gIq4r"
      },
      "source": [
        "### Preprocessing"
      ]
    },
    {
      "cell_type": "code",
      "execution_count": null,
      "metadata": {
        "colab": {
          "base_uri": "https://localhost:8080/",
          "height": 121
        },
        "id": "TJ6LE4MrJjC_",
        "outputId": "cb4f9812-a59f-4bfc-9111-e95c6c72c5f6"
      },
      "outputs": [
        {
          "data": {
            "text/plain": [
              "0    <go> 4 ex-bank officials booked for cheating b...\n",
              "1    <go> Supreme Court to go paperless in 6 months...\n",
              "2    <go> At least 3 killed, 30 injured in blast in...\n",
              "3    <go> Why has Reliance been barred from trading...\n",
              "4    <go> Was stopped from entering my own studio a...\n",
              "Name: Headline, dtype: object"
            ]
          },
          "execution_count": 9,
          "metadata": {
            "tags": []
          },
          "output_type": "execute_result"
        }
      ],
      "source": [
        "# for decoder sequence\n",
        "summary = summary.apply(lambda x: '<go> ' + x + ' <stop>')\n",
        "summary.head()"
      ]
    },
    {
      "cell_type": "markdown",
      "metadata": {
        "id": "95Zv7FIvKbTi"
      },
      "source": [
        "#### Tokenizing the texts into integer tokens"
      ]
    },
    {
      "cell_type": "code",
      "execution_count": null,
      "metadata": {
        "id": "7TqbpEyPMRqa"
      },
      "outputs": [],
      "source": [
        "# since < and > from default tokens cannot be removed\n",
        "filters = '!\"#$%&()*+,-./:;=?@[\\\\]^_`{|}~\\t\\n'\n",
        "oov_token = '<unk>'"
      ]
    },
    {
      "cell_type": "code",
      "execution_count": null,
      "metadata": {
        "id": "cHw2csoYImsa"
      },
      "outputs": [],
      "source": [
        "document_tokenizer = tf.keras.preprocessing.text.Tokenizer(oov_token=oov_token)\n",
        "summary_tokenizer = tf.keras.preprocessing.text.Tokenizer(filters=filters, oov_token=oov_token)"
      ]
    },
    {
      "cell_type": "code",
      "execution_count": null,
      "metadata": {
        "id": "DWU9Xu7OKVab"
      },
      "outputs": [],
      "source": [
        "document_tokenizer.fit_on_texts(document)\n",
        "summary_tokenizer.fit_on_texts(summary)"
      ]
    },
    {
      "cell_type": "code",
      "execution_count": null,
      "metadata": {
        "id": "3ESm-aYR-tvx"
      },
      "outputs": [],
      "source": [
        "#convert corpus to integer sequences\n",
        "inputs = document_tokenizer.texts_to_sequences(document)\n",
        "targets = summary_tokenizer.texts_to_sequences(summary)"
      ]
    },
    {
      "cell_type": "code",
      "execution_count": null,
      "metadata": {
        "colab": {
          "base_uri": "https://localhost:8080/",
          "height": 34
        },
        "id": "kVyErXAei5_b",
        "outputId": "41027c54-ce96-46d2-85c1-ff09bfe5d7dd"
      },
      "outputs": [
        {
          "data": {
            "text/plain": [
              "[[184, 22, 12, 71]]"
            ]
          },
          "execution_count": 21,
          "metadata": {
            "tags": []
          },
          "output_type": "execute_result"
        }
      ],
      "source": [
        "summary_tokenizer.texts_to_sequences([\"This is a test\"])"
      ]
    },
    {
      "cell_type": "code",
      "execution_count": null,
      "metadata": {
        "colab": {
          "base_uri": "https://localhost:8080/",
          "height": 34
        },
        "id": "Ryx9qx90jwXu",
        "outputId": "c4b8270a-e497-47a5-e93b-90a328a7f0a9"
      },
      "outputs": [
        {
          "data": {
            "text/plain": [
              "['this is a test']"
            ]
          },
          "execution_count": 23,
          "metadata": {
            "tags": []
          },
          "output_type": "execute_result"
        }
      ],
      "source": [
        "summary_tokenizer.sequences_to_texts([[184, 22, 12, 71]])"
      ]
    },
    {
      "cell_type": "code",
      "execution_count": null,
      "metadata": {
        "colab": {
          "base_uri": "https://localhost:8080/",
          "height": 34
        },
        "id": "KoizyBvLKv8h",
        "outputId": "62198745-1a53-41ef-f10c-5c9ca315fbe4"
      },
      "outputs": [
        {
          "data": {
            "text/plain": [
              "(76362, 29661)"
            ]
          },
          "execution_count": 24,
          "metadata": {
            "tags": []
          },
          "output_type": "execute_result"
        }
      ],
      "source": [
        "encoder_vocab_size = len(document_tokenizer.word_index) + 1\n",
        "decoder_vocab_size = len(summary_tokenizer.word_index) + 1\n",
        "\n",
        "# vocab_size\n",
        "encoder_vocab_size, decoder_vocab_size"
      ]
    },
    {
      "cell_type": "markdown",
      "metadata": {
        "id": "mZden_q9_eZr"
      },
      "source": [
        "#### Obtaining insights on lengths for defining maxlen"
      ]
    },
    {
      "cell_type": "code",
      "execution_count": null,
      "metadata": {
        "id": "ma4o2nGdK5Xb"
      },
      "outputs": [],
      "source": [
        "document_lengths = pd.Series([len(x) for x in document])\n",
        "summary_lengths = pd.Series([len(x) for x in summary])"
      ]
    },
    {
      "cell_type": "code",
      "execution_count": null,
      "metadata": {
        "colab": {
          "base_uri": "https://localhost:8080/",
          "height": 173
        },
        "id": "iXZlO99C-UXK",
        "outputId": "8b1480e7-5481-43f0-b685-e1deecda4548"
      },
      "outputs": [
        {
          "data": {
            "text/plain": [
              "count    55104.000000\n",
              "mean       368.003049\n",
              "std         26.235510\n",
              "min        280.000000\n",
              "25%        350.000000\n",
              "50%        369.000000\n",
              "75%        387.000000\n",
              "max        469.000000\n",
              "dtype: float64"
            ]
          },
          "execution_count": 26,
          "metadata": {
            "tags": []
          },
          "output_type": "execute_result"
        }
      ],
      "source": [
        "document_lengths.describe()"
      ]
    },
    {
      "cell_type": "code",
      "execution_count": null,
      "metadata": {
        "colab": {
          "base_uri": "https://localhost:8080/",
          "height": 173
        },
        "id": "ALMwKMx--ZF7",
        "outputId": "df49e521-f058-466e-ec7c-f667c215c748"
      },
      "outputs": [
        {
          "data": {
            "text/plain": [
              "count    55104.000000\n",
              "mean        63.620282\n",
              "std          7.267463\n",
              "min         20.000000\n",
              "25%         59.000000\n",
              "50%         63.000000\n",
              "75%         69.000000\n",
              "max         96.000000\n",
              "dtype: float64"
            ]
          },
          "execution_count": 27,
          "metadata": {
            "tags": []
          },
          "output_type": "execute_result"
        }
      ],
      "source": [
        "summary_lengths.describe()"
      ]
    },
    {
      "cell_type": "code",
      "execution_count": null,
      "metadata": {
        "id": "cVeMilXr-bpC"
      },
      "outputs": [],
      "source": [
        "# maxlen\n",
        "# taking values > and round figured to 75th percentile\n",
        "# at the same time not leaving high variance\n",
        "encoder_maxlen = 400\n",
        "decoder_maxlen = 75"
      ]
    },
    {
      "cell_type": "markdown",
      "metadata": {
        "id": "_SWap3YJBk-D"
      },
      "source": [
        "#### Padding/Truncating sequences for identical sequence lengths"
      ]
    },
    {
      "cell_type": "code",
      "execution_count": null,
      "metadata": {
        "id": "vEyUBeu7ACRt"
      },
      "outputs": [],
      "source": [
        "inputs = tf.keras.preprocessing.sequence.pad_sequences(inputs, maxlen=encoder_maxlen, padding='post', truncating='post')\n",
        "targets = tf.keras.preprocessing.sequence.pad_sequences(targets, maxlen=decoder_maxlen, padding='post', truncating='post')"
      ]
    },
    {
      "cell_type": "markdown",
      "metadata": {
        "id": "wIP0kIIcB8Rm"
      },
      "source": [
        "### Creating dataset pipeline"
      ]
    },
    {
      "cell_type": "code",
      "execution_count": null,
      "metadata": {
        "id": "LzO6l3-AB7hJ"
      },
      "outputs": [],
      "source": [
        "inputs = tf.cast(inputs, dtype=tf.int32)\n",
        "targets = tf.cast(targets, dtype=tf.int32)"
      ]
    },
    {
      "cell_type": "code",
      "execution_count": null,
      "metadata": {
        "id": "slZ5f4P4DurS"
      },
      "outputs": [],
      "source": [
        "BUFFER_SIZE = 20000\n",
        "BATCH_SIZE = 64"
      ]
    },
    {
      "cell_type": "code",
      "execution_count": null,
      "metadata": {
        "id": "wI-fV7eABWN6"
      },
      "outputs": [],
      "source": [
        "dataset = tf.data.Dataset.from_tensor_slices((inputs, targets)).shuffle(BUFFER_SIZE).batch(BATCH_SIZE)"
      ]
    },
    {
      "cell_type": "markdown",
      "metadata": {
        "id": "isN1CpAXLfsl"
      },
      "source": [
        "### Positional Encoding for adding notion of position among words as unlike RNN this is non-directional"
      ]
    },
    {
      "cell_type": "markdown",
      "source": [
        "![sin.PNG](data:image/png;base64,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)"
      ],
      "metadata": {
        "id": "4WM2aFl59RCM"
      }
    },
    {
      "cell_type": "code",
      "execution_count": null,
      "metadata": {
        "id": "Purv7oyhETDZ"
      },
      "outputs": [],
      "source": [
        "def get_angles(position, i, d_model):\n",
        "    angle_rates = 1 / np.power(10000, (2 * (i // 2)) / np.float32(d_model))\n",
        "    return position * angle_rates"
      ]
    },
    {
      "cell_type": "code",
      "execution_count": null,
      "metadata": {
        "id": "40J2pc2NEXp5"
      },
      "outputs": [],
      "source": [
        "def positional_encoding(position, d_model):\n",
        "    angle_rads = get_angles(\n",
        "        np.arange(position)[:, np.newaxis],\n",
        "        np.arange(d_model)[np.newaxis, :],\n",
        "        d_model\n",
        "    )\n",
        "\n",
        "    # apply sin to even indices in the array; 2i\n",
        "    angle_rads[:, 0::2] = np.sin(angle_rads[:, 0::2])\n",
        "\n",
        "    # apply cos to odd indices in the array; 2i+1\n",
        "    angle_rads[:, 1::2] = np.cos(angle_rads[:, 1::2])\n",
        "\n",
        "    pos_encoding = angle_rads[np.newaxis, ...]\n",
        "\n",
        "    return tf.cast(pos_encoding, dtype=tf.float32)\n"
      ]
    },
    {
      "cell_type": "markdown",
      "metadata": {
        "id": "24Pe01DMMWHc"
      },
      "source": [
        "### Masking\n",
        "\n",
        "- Padding mask for masking \"pad\" sequences\n",
        "- Lookahead mask for masking future words from contributing in prediction of current words in self attention"
      ]
    },
    {
      "cell_type": "code",
      "execution_count": null,
      "metadata": {
        "id": "hN1wVQAdMVYy"
      },
      "outputs": [],
      "source": [
        "#ignoring the external padding added to sequences that are shorter than maxlen\n",
        "\n",
        "def create_padding_mask(seq):\n",
        "    seq = tf.cast(tf.math.equal(seq, 0), tf.float32)\n",
        "    return seq[:, tf.newaxis, tf.newaxis, :]"
      ]
    },
    {
      "cell_type": "code",
      "execution_count": null,
      "metadata": {
        "id": "UmjAPLWuMREE"
      },
      "outputs": [],
      "source": [
        "#ignoring the words that occur after a given current word in the target sequence\n",
        " #from contributing to the prediction of the current word.\n",
        "\n",
        "def create_look_ahead_mask(size):\n",
        "    mask = 1 - tf.linalg.band_part(tf.ones((size, size)), -1, 0)\n",
        "    return mask"
      ]
    },
    {
      "cell_type": "markdown",
      "metadata": {
        "id": "n8DqUBc4NFOy"
      },
      "source": [
        "### Building the Model"
      ]
    },
    {
      "cell_type": "markdown",
      "metadata": {
        "id": "WfknVF7hNKf7"
      },
      "source": [
        "#### Scaled Dot Product"
      ]
    },
    {
      "cell_type": "markdown",
      "source": [
        "![dot.png](data:image/png;base64,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)"
      ],
      "metadata": {
        "id": "AaWgmh3zDcEQ"
      }
    },
    {
      "cell_type": "code",
      "execution_count": null,
      "metadata": {
        "id": "w_B6M9OBNBKB"
      },
      "outputs": [],
      "source": [
        "def scaled_dot_product_attention(q, k, v, mask):\n",
        "    matmul_qk = tf.matmul(q, k, transpose_b=True)\n",
        "\n",
        "    dk = tf.cast(tf.shape(k)[-1], tf.float32)\n",
        "    scaled_attention_logits = matmul_qk / tf.math.sqrt(dk)\n",
        "\n",
        "    if mask is not None:\n",
        "        scaled_attention_logits += (mask * -1e9) ##\n",
        "\n",
        "    attention_weights = tf.nn.softmax(scaled_attention_logits, axis=-1)\n",
        "\n",
        "    output = tf.matmul(attention_weights, v)\n",
        "    return output, attention_weights"
      ]
    },
    {
      "cell_type": "markdown",
      "metadata": {
        "id": "Rf7_a5uQOfJk"
      },
      "source": [
        "#### Multi-Headed Attention"
      ]
    },
    {
      "cell_type": "code",
      "execution_count": null,
      "metadata": {
        "id": "iIuFrdXnNZEC"
      },
      "outputs": [],
      "source": [
        "class MultiHeadAttention(tf.keras.layers.Layer):\n",
        "    def __init__(self, d_model, num_heads):\n",
        "        super(MultiHeadAttention, self).__init__()\n",
        "        self.num_heads = num_heads\n",
        "        self.d_model = d_model\n",
        "\n",
        "        assert d_model % self.num_heads == 0\n",
        "\n",
        "        self.depth = d_model // self.num_heads\n",
        "\n",
        "        self.wq = tf.keras.layers.Dense(d_model)\n",
        "        self.wk = tf.keras.layers.Dense(d_model)\n",
        "        self.wv = tf.keras.layers.Dense(d_model)\n",
        "\n",
        "        self.dense = tf.keras.layers.Dense(d_model)\n",
        "\n",
        "    def split_heads(self, x, batch_size):\n",
        "        x = tf.reshape(x, (batch_size, -1, self.num_heads, self.depth))\n",
        "        return tf.transpose(x, perm=[0, 2, 1, 3])\n",
        "\n",
        "    def call(self, v, k, q, mask):\n",
        "        batch_size = tf.shape(q)[0]\n",
        "\n",
        "        q = self.wq(q)\n",
        "        k = self.wk(k)\n",
        "        v = self.wv(v)\n",
        "\n",
        "        q = self.split_heads(q, batch_size)\n",
        "        k = self.split_heads(k, batch_size)\n",
        "        v = self.split_heads(v, batch_size)\n",
        "\n",
        "        scaled_attention, attention_weights = scaled_dot_product_attention(\n",
        "            q, k, v, mask)\n",
        "\n",
        "        scaled_attention = tf.transpose(scaled_attention, perm=[0, 2, 1, 3])\n",
        "\n",
        "        concat_attention = tf.reshape(scaled_attention, (batch_size, -1, self.d_model))\n",
        "        output = self.dense(concat_attention)\n",
        "\n",
        "        return output, attention_weights"
      ]
    },
    {
      "cell_type": "markdown",
      "metadata": {
        "id": "A49tXMVvOkOZ"
      },
      "source": [
        "### Feed Forward Network"
      ]
    },
    {
      "cell_type": "code",
      "execution_count": null,
      "metadata": {
        "id": "d9-qoKuTNwKq"
      },
      "outputs": [],
      "source": [
        "def point_wise_feed_forward_network(d_model, dff):\n",
        "    return tf.keras.Sequential([\n",
        "        tf.keras.layers.Dense(dff, activation='relu'),\n",
        "        tf.keras.layers.Dense(d_model)\n",
        "    ])"
      ]
    },
    {
      "cell_type": "markdown",
      "metadata": {
        "id": "B2RRmn2bOpW9"
      },
      "source": [
        "#### Fundamental Unit of Transformer encoder"
      ]
    },
    {
      "cell_type": "markdown",
      "source": [
        "![trans.PNG](data:image/png;base64,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)"
      ],
      "metadata": {
        "id": "pVV3c3U9H8LB"
      }
    },
    {
      "cell_type": "code",
      "execution_count": null,
      "metadata": {
        "id": "HNuoJoFWO335"
      },
      "outputs": [],
      "source": [
        "class EncoderLayer(tf.keras.layers.Layer):\n",
        "    def __init__(self, d_model, num_heads, dff, rate=0.1):\n",
        "        super(EncoderLayer, self).__init__()\n",
        "\n",
        "        self.mha = MultiHeadAttention(d_model, num_heads)\n",
        "        self.ffn = point_wise_feed_forward_network(d_model, dff)\n",
        "\n",
        "        self.layernorm1 = tf.keras.layers.LayerNormalization(epsilon=1e-6)\n",
        "        self.layernorm2 = tf.keras.layers.LayerNormalization(epsilon=1e-6)\n",
        "\n",
        "        self.dropout1 = tf.keras.layers.Dropout(rate)\n",
        "        self.dropout2 = tf.keras.layers.Dropout(rate)\n",
        "\n",
        "    def call(self, x, training, mask):\n",
        "        attn_output, _ = self.mha(x, x, x, mask)\n",
        "        attn_output = self.dropout1(attn_output, training=training)\n",
        "        out1 = self.layernorm1(x + attn_output)\n",
        "\n",
        "        ffn_output = self.ffn(out1)\n",
        "        ffn_output = self.dropout2(ffn_output, training=training)\n",
        "        out2 = self.layernorm2(out1 + ffn_output)\n",
        "\n",
        "        return out2\n"
      ]
    },
    {
      "cell_type": "markdown",
      "metadata": {
        "id": "9i6Zh8gnPqdW"
      },
      "source": [
        "#### Fundamental Unit of Transformer decoder"
      ]
    },
    {
      "cell_type": "code",
      "execution_count": null,
      "metadata": {
        "id": "7CVmvs6dPMRC"
      },
      "outputs": [],
      "source": [
        "class DecoderLayer(tf.keras.layers.Layer):\n",
        "    def __init__(self, d_model, num_heads, dff, rate=0.1):\n",
        "        super(DecoderLayer, self).__init__()\n",
        "\n",
        "        self.mha1 = MultiHeadAttention(d_model, num_heads)\n",
        "        self.mha2 = MultiHeadAttention(d_model, num_heads)\n",
        "\n",
        "        self.ffn = point_wise_feed_forward_network(d_model, dff)\n",
        "\n",
        "        self.layernorm1 = tf.keras.layers.LayerNormalization(epsilon=1e-6)\n",
        "        self.layernorm2 = tf.keras.layers.LayerNormalization(epsilon=1e-6)\n",
        "        self.layernorm3 = tf.keras.layers.LayerNormalization(epsilon=1e-6)\n",
        "\n",
        "        self.dropout1 = tf.keras.layers.Dropout(rate)\n",
        "        self.dropout2 = tf.keras.layers.Dropout(rate)\n",
        "        self.dropout3 = tf.keras.layers.Dropout(rate)\n",
        "\n",
        "\n",
        "    def call(self, x, enc_output, training, look_ahead_mask, padding_mask):\n",
        "        attn1, attn_weights_block1 = self.mha1(x, x, x, look_ahead_mask)\n",
        "        attn1 = self.dropout1(attn1, training=training)\n",
        "        out1 = self.layernorm1(attn1 + x)\n",
        "\n",
        "        attn2, attn_weights_block2 = self.mha2(enc_output, enc_output, out1, padding_mask)\n",
        "        attn2 = self.dropout2(attn2, training=training)\n",
        "        out2 = self.layernorm2(attn2 + out1)\n",
        "\n",
        "        ffn_output = self.ffn(out2)\n",
        "        ffn_output = self.dropout3(ffn_output, training=training)\n",
        "        out3 = self.layernorm3(ffn_output + out2)\n",
        "\n",
        "        return out3, attn_weights_block1, attn_weights_block2\n"
      ]
    },
    {
      "cell_type": "markdown",
      "metadata": {
        "id": "6zt5MUc_QNid"
      },
      "source": [
        "#### Encoder consisting of multiple EncoderLayer(s)"
      ]
    },
    {
      "cell_type": "code",
      "execution_count": null,
      "metadata": {
        "id": "BrbnTwijQJ-h"
      },
      "outputs": [],
      "source": [
        "class Encoder(tf.keras.layers.Layer):\n",
        "    def __init__(self, num_layers, d_model, num_heads, dff, input_vocab_size, maximum_position_encoding, rate=0.1):\n",
        "        super(Encoder, self).__init__()\n",
        "\n",
        "        self.d_model = d_model\n",
        "        self.num_layers = num_layers\n",
        "\n",
        "        self.embedding = tf.keras.layers.Embedding(input_vocab_size, d_model)\n",
        "        self.pos_encoding = positional_encoding(maximum_position_encoding, self.d_model)\n",
        "\n",
        "        self.enc_layers = [EncoderLayer(d_model, num_heads, dff, rate) for _ in range(num_layers)]\n",
        "\n",
        "        self.dropout = tf.keras.layers.Dropout(rate)\n",
        "\n",
        "    def call(self, x, training, mask):\n",
        "        seq_len = tf.shape(x)[1]\n",
        "\n",
        "        x = self.embedding(x)\n",
        "        x *= tf.math.sqrt(tf.cast(self.d_model, tf.float32))\n",
        "        x += self.pos_encoding[:, :seq_len, :]\n",
        "\n",
        "        x = self.dropout(x, training=training)\n",
        "\n",
        "        for i in range(self.num_layers):\n",
        "            x = self.enc_layers[i](x, training, mask)\n",
        "\n",
        "        return x\n"
      ]
    },
    {
      "cell_type": "markdown",
      "metadata": {
        "id": "4N5LrNrvRexg"
      },
      "source": [
        "#### Decoder consisting of multiple DecoderLayer(s)"
      ]
    },
    {
      "cell_type": "code",
      "execution_count": null,
      "metadata": {
        "id": "UmeqkZrIRbSB"
      },
      "outputs": [],
      "source": [
        "class Decoder(tf.keras.layers.Layer):\n",
        "    def __init__(self, num_layers, d_model, num_heads, dff, target_vocab_size, maximum_position_encoding, rate=0.1):\n",
        "        super(Decoder, self).__init__()\n",
        "\n",
        "        self.d_model = d_model\n",
        "        self.num_layers = num_layers\n",
        "\n",
        "        self.embedding = tf.keras.layers.Embedding(target_vocab_size, d_model)\n",
        "        self.pos_encoding = positional_encoding(maximum_position_encoding, d_model)\n",
        "\n",
        "        self.dec_layers = [DecoderLayer(d_model, num_heads, dff, rate) for _ in range(num_layers)]\n",
        "        self.dropout = tf.keras.layers.Dropout(rate)\n",
        "\n",
        "    def call(self, x, enc_output, training, look_ahead_mask, padding_mask):\n",
        "        seq_len = tf.shape(x)[1]\n",
        "        attention_weights = {}\n",
        "\n",
        "        x = self.embedding(x)\n",
        "        x *= tf.math.sqrt(tf.cast(self.d_model, tf.float32))\n",
        "        x += self.pos_encoding[:, :seq_len, :]\n",
        "\n",
        "        x = self.dropout(x, training=training)\n",
        "\n",
        "        for i in range(self.num_layers):\n",
        "            x, block1, block2 = self.dec_layers[i](x, enc_output, training, look_ahead_mask, padding_mask)\n",
        "\n",
        "            attention_weights['decoder_layer{}_block1'.format(i+1)] = block1\n",
        "            attention_weights['decoder_layer{}_block2'.format(i+1)] = block2\n",
        "\n",
        "        return x, attention_weights\n"
      ]
    },
    {
      "cell_type": "markdown",
      "metadata": {
        "id": "lbMNK_bzSHnh"
      },
      "source": [
        "#### Finally, the Transformer"
      ]
    },
    {
      "cell_type": "code",
      "execution_count": null,
      "metadata": {
        "id": "FXHRG-o4R9Mc"
      },
      "outputs": [],
      "source": [
        "class Transformer(tf.keras.Model):\n",
        "    def __init__(self, num_layers, d_model, num_heads, dff, input_vocab_size, target_vocab_size, pe_input, pe_target, rate=0.1):\n",
        "        super(Transformer, self).__init__()\n",
        "\n",
        "        self.encoder = Encoder(num_layers, d_model, num_heads, dff, input_vocab_size, pe_input, rate)\n",
        "\n",
        "        self.decoder = Decoder(num_layers, d_model, num_heads, dff, target_vocab_size, pe_target, rate)\n",
        "\n",
        "        self.final_layer = tf.keras.layers.Dense(target_vocab_size)\n",
        "\n",
        "    def call(self, inp, tar, training, enc_padding_mask, look_ahead_mask, dec_padding_mask):\n",
        "        enc_output = self.encoder(inp, training, enc_padding_mask)\n",
        "\n",
        "        dec_output, attention_weights = self.decoder(tar, enc_output, training, look_ahead_mask, dec_padding_mask)\n",
        "\n",
        "        final_output = self.final_layer(dec_output)\n",
        "\n",
        "        return final_output, attention_weights\n"
      ]
    },
    {
      "cell_type": "markdown",
      "metadata": {
        "id": "UndsMPZXTdSr"
      },
      "source": [
        "### Training"
      ]
    },
    {
      "cell_type": "code",
      "execution_count": null,
      "metadata": {
        "id": "lMTZJdIoSbuy"
      },
      "outputs": [],
      "source": [
        "# hyper-params\n",
        "num_layers = 4\n",
        "d_model = 128 #dimension of word vector\n",
        "dff = 512 #dimension of output space\n",
        "num_heads = 8\n",
        "EPOCHS = 20"
      ]
    },
    {
      "cell_type": "markdown",
      "metadata": {
        "id": "uOGvkYDNTjIj"
      },
      "source": [
        "#### Adam optimizer with custom learning rate scheduling"
      ]
    },
    {
      "cell_type": "markdown",
      "source": [
        "![lr.PNG](data:image/png;base64,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)"
      ],
      "metadata": {
        "id": "-2GjzwHgJH5h"
      }
    },
    {
      "cell_type": "code",
      "execution_count": null,
      "metadata": {
        "id": "tfiynCLlTL8C"
      },
      "outputs": [],
      "source": [
        "class CustomSchedule(tf.keras.optimizers.schedules.LearningRateSchedule):\n",
        "    def __init__(self, d_model, warmup_steps=4000):\n",
        "        super(CustomSchedule, self).__init__()\n",
        "\n",
        "        self.d_model = d_model\n",
        "        self.d_model = tf.cast(self.d_model, tf.float32)\n",
        "\n",
        "        self.warmup_steps = warmup_steps\n",
        "\n",
        "    def __call__(self, step):\n",
        "        arg1 = tf.math.rsqrt(step)\n",
        "        arg2 = step * (self.warmup_steps ** -1.5)\n",
        "\n",
        "        return tf.math.rsqrt(self.d_model) * tf.math.minimum(arg1, arg2)\n"
      ]
    },
    {
      "cell_type": "markdown",
      "metadata": {
        "id": "DsVdrENTUERY"
      },
      "source": [
        "#### Defining losses and other metrics"
      ]
    },
    {
      "cell_type": "code",
      "execution_count": null,
      "metadata": {
        "id": "Ip1-943kTXXK"
      },
      "outputs": [],
      "source": [
        "learning_rate = CustomSchedule(d_model)\n",
        "\n",
        "optimizer = tf.keras.optimizers.Adam(learning_rate, beta_1=0.9, beta_2=0.98, epsilon=1e-9)"
      ]
    },
    {
      "cell_type": "code",
      "execution_count": null,
      "metadata": {
        "id": "ktKwyvKtTvF6"
      },
      "outputs": [],
      "source": [
        "loss_object = tf.keras.losses.SparseCategoricalCrossentropy(from_logits=True, reduction='none')"
      ]
    },
    {
      "cell_type": "code",
      "execution_count": null,
      "metadata": {
        "id": "uW4LA_45T4Aa"
      },
      "outputs": [],
      "source": [
        "def loss_function(real, pred):\n",
        "    mask = tf.math.logical_not(tf.math.equal(real, 0))\n",
        "    loss_ = loss_object(real, pred)\n",
        "\n",
        "    mask = tf.cast(mask, dtype=loss_.dtype)\n",
        "    loss_ *= mask\n",
        "\n",
        "    return tf.reduce_sum(loss_)/tf.reduce_sum(mask)\n"
      ]
    },
    {
      "cell_type": "code",
      "execution_count": null,
      "metadata": {
        "id": "Ze0u6xxXT7dI"
      },
      "outputs": [],
      "source": [
        "train_loss = tf.keras.metrics.Mean(name='train_loss')"
      ]
    },
    {
      "cell_type": "markdown",
      "metadata": {
        "id": "9XvKy3v6ULnO"
      },
      "source": [
        "#### Transformer"
      ]
    },
    {
      "cell_type": "code",
      "execution_count": null,
      "metadata": {
        "id": "d5-RcxqFUCuk"
      },
      "outputs": [],
      "source": [
        "transformer = Transformer(\n",
        "    num_layers,\n",
        "    d_model,\n",
        "    num_heads,\n",
        "    dff,\n",
        "    encoder_vocab_size,\n",
        "    decoder_vocab_size,\n",
        "    pe_input=encoder_vocab_size,\n",
        "    pe_target=decoder_vocab_size,\n",
        ")"
      ]
    },
    {
      "cell_type": "markdown",
      "metadata": {
        "id": "f56BGiVXU_Dk"
      },
      "source": [
        "#### Masks"
      ]
    },
    {
      "cell_type": "code",
      "execution_count": null,
      "metadata": {
        "id": "FZxHuyZxU5Pa"
      },
      "outputs": [],
      "source": [
        "def create_masks(inp, tar):\n",
        "    enc_padding_mask = create_padding_mask(inp)\n",
        "    dec_padding_mask = create_padding_mask(inp)\n",
        "\n",
        "    look_ahead_mask = create_look_ahead_mask(tf.shape(tar)[1])\n",
        "    dec_target_padding_mask = create_padding_mask(tar)\n",
        "    combined_mask = tf.maximum(dec_target_padding_mask, look_ahead_mask)\n",
        "\n",
        "    return enc_padding_mask, combined_mask, dec_padding_mask\n"
      ]
    },
    {
      "cell_type": "markdown",
      "metadata": {
        "id": "SYIotvaBVI0d"
      },
      "source": [
        "#### Checkpoints"
      ]
    },
    {
      "cell_type": "code",
      "execution_count": null,
      "metadata": {
        "colab": {
          "base_uri": "https://localhost:8080/",
          "height": 34
        },
        "id": "tOc1_3c-VGaL",
        "outputId": "eeab15d7-f887-4f37-dfec-c980948f97d6"
      },
      "outputs": [
        {
          "name": "stdout",
          "output_type": "stream",
          "text": [
            "Latest checkpoint restored!!\n"
          ]
        }
      ],
      "source": [
        "checkpoint_path = \"checkpoints\"\n",
        "\n",
        "ckpt = tf.train.Checkpoint(transformer=transformer, optimizer=optimizer)\n",
        "\n",
        "ckpt_manager = tf.train.CheckpointManager(ckpt, checkpoint_path, max_to_keep=5)\n",
        "\n",
        "if ckpt_manager.latest_checkpoint:\n",
        "    ckpt.restore(ckpt_manager.latest_checkpoint)\n",
        "    print ('Latest checkpoint restored!!')"
      ]
    },
    {
      "cell_type": "markdown",
      "metadata": {
        "id": "WfpI0gS4c06c"
      },
      "source": [
        "#### Training steps"
      ]
    },
    {
      "cell_type": "code",
      "execution_count": null,
      "metadata": {
        "id": "xmVOMzkrczgl"
      },
      "outputs": [],
      "source": [
        "@tf.function\n",
        "def train_step(inp, tar):\n",
        "    tar_inp = tar[:, :-1]\n",
        "    tar_real = tar[:, 1:]\n",
        "\n",
        "    enc_padding_mask, combined_mask, dec_padding_mask = create_masks(inp, tar_inp)\n",
        "\n",
        "    with tf.GradientTape() as tape:\n",
        "        predictions, _ = transformer(\n",
        "            inp, tar_inp,\n",
        "            True,\n",
        "            enc_padding_mask,\n",
        "            combined_mask,\n",
        "            dec_padding_mask\n",
        "        )\n",
        "        loss = loss_function(tar_real, predictions)\n",
        "\n",
        "    gradients = tape.gradient(loss, transformer.trainable_variables)\n",
        "    optimizer.apply_gradients(zip(gradients, transformer.trainable_variables))\n",
        "\n",
        "    train_loss(loss)"
      ]
    },
    {
      "cell_type": "code",
      "execution_count": null,
      "metadata": {
        "colab": {
          "base_uri": "https://localhost:8080/",
          "height": 1000
        },
        "id": "xORKpv69dSW5",
        "outputId": "572d3232-3af4-4bd6-ebc7-a151f6ad000d"
      },
      "outputs": [
        {
          "name": "stdout",
          "output_type": "stream",
          "text": [
            "Epoch 1 Batch 0 Loss 2.4681\n",
            "Epoch 1 Batch 429 Loss 2.4650\n",
            "Epoch 1 Batch 858 Loss 2.5071\n",
            "Epoch 1 Loss 2.5077\n",
            "Time taken for 1 epoch: 308.9519073963165 secs\n",
            "\n",
            "Epoch 2 Batch 0 Loss 2.3482\n",
            "Epoch 2 Batch 429 Loss 2.4071\n",
            "Epoch 2 Batch 858 Loss 2.4461\n",
            "Epoch 2 Loss 2.4464\n",
            "Time taken for 1 epoch: 299.0744743347168 secs\n",
            "\n",
            "Epoch 3 Batch 0 Loss 2.3197\n",
            "Epoch 3 Batch 429 Loss 2.3417\n",
            "Epoch 3 Batch 858 Loss 2.3879\n",
            "Epoch 3 Loss 2.3883\n",
            "Time taken for 1 epoch: 301.2433364391327 secs\n",
            "\n",
            "Epoch 4 Batch 0 Loss 2.1710\n",
            "Epoch 4 Batch 429 Loss 2.2931\n",
            "Epoch 4 Batch 858 Loss 2.3333\n",
            "Epoch 4 Loss 2.3340\n",
            "Time taken for 1 epoch: 301.5991175174713 secs\n",
            "\n",
            "Epoch 5 Batch 0 Loss 2.1340\n",
            "Epoch 5 Batch 429 Loss 2.2443\n",
            "Epoch 5 Batch 858 Loss 2.2869\n",
            "Saving checkpoint for epoch 5 at checkpoints/ckpt-5\n",
            "Epoch 5 Loss 2.2872\n",
            "Time taken for 1 epoch: 302.6865613460541 secs\n",
            "\n",
            "Epoch 6 Batch 0 Loss 2.2356\n",
            "Epoch 6 Batch 429 Loss 2.1970\n",
            "Epoch 6 Batch 858 Loss 2.2388\n",
            "Epoch 6 Loss 2.2395\n",
            "Time taken for 1 epoch: 299.43392634391785 secs\n",
            "\n",
            "Epoch 7 Batch 0 Loss 2.0859\n",
            "Epoch 7 Batch 429 Loss 2.1447\n",
            "Epoch 7 Batch 858 Loss 2.1965\n",
            "Epoch 7 Loss 2.1969\n",
            "Time taken for 1 epoch: 299.074423789978 secs\n",
            "\n",
            "Epoch 8 Batch 0 Loss 2.0642\n",
            "Epoch 8 Batch 429 Loss 2.1070\n",
            "Epoch 8 Batch 858 Loss 2.1567\n",
            "Epoch 8 Loss 2.1568\n",
            "Time taken for 1 epoch: 299.17002749443054 secs\n",
            "\n",
            "Epoch 9 Batch 0 Loss 2.0930\n",
            "Epoch 9 Batch 429 Loss 2.0631\n",
            "Epoch 9 Batch 858 Loss 2.1183\n",
            "Epoch 9 Loss 2.1191\n",
            "Time taken for 1 epoch: 299.0372166633606 secs\n",
            "\n",
            "Epoch 10 Batch 0 Loss 1.9020\n",
            "Epoch 10 Batch 429 Loss 2.0271\n",
            "Epoch 10 Batch 858 Loss 2.0765\n",
            "Saving checkpoint for epoch 10 at checkpoints/ckpt-6\n",
            "Epoch 10 Loss 2.0768\n",
            "Time taken for 1 epoch: 299.7342073917389 secs\n",
            "\n",
            "Epoch 11 Batch 0 Loss 1.9392\n",
            "Epoch 11 Batch 429 Loss 1.9937\n",
            "Epoch 11 Batch 858 Loss 2.0476\n",
            "Epoch 11 Loss 2.0478\n",
            "Time taken for 1 epoch: 299.45343947410583 secs\n",
            "\n",
            "Epoch 12 Batch 0 Loss 1.7920\n",
            "Epoch 12 Batch 429 Loss 1.9643\n",
            "Epoch 12 Batch 858 Loss 2.0171\n",
            "Epoch 12 Loss 2.0174\n",
            "Time taken for 1 epoch: 298.78548765182495 secs\n",
            "\n",
            "Epoch 13 Batch 0 Loss 1.7588\n",
            "Epoch 13 Batch 429 Loss 1.9253\n",
            "Epoch 13 Batch 858 Loss 1.9814\n",
            "Epoch 13 Loss 1.9816\n",
            "Time taken for 1 epoch: 298.87867879867554 secs\n",
            "\n",
            "Epoch 14 Batch 0 Loss 1.8428\n",
            "Epoch 14 Batch 429 Loss 1.8962\n",
            "Epoch 14 Batch 858 Loss 1.9524\n",
            "Epoch 14 Loss 1.9527\n",
            "Time taken for 1 epoch: 298.65805077552795 secs\n",
            "\n",
            "Epoch 15 Batch 0 Loss 1.6725\n",
            "Epoch 15 Batch 429 Loss 1.8697\n",
            "Epoch 15 Batch 858 Loss 1.9249\n",
            "Saving checkpoint for epoch 15 at checkpoints/ckpt-7\n",
            "Epoch 15 Loss 1.9251\n",
            "Time taken for 1 epoch: 299.3562548160553 secs\n",
            "\n",
            "Epoch 16 Batch 0 Loss 1.8478\n",
            "Epoch 16 Batch 429 Loss 1.8391\n",
            "Epoch 16 Batch 858 Loss 1.8983\n",
            "Epoch 16 Loss 1.8990\n",
            "Time taken for 1 epoch: 298.57386469841003 secs\n",
            "\n",
            "Epoch 17 Batch 0 Loss 1.6218\n",
            "Epoch 17 Batch 429 Loss 1.8088\n",
            "Epoch 17 Batch 858 Loss 1.8721\n",
            "Epoch 17 Loss 1.8724\n",
            "Time taken for 1 epoch: 298.404292345047 secs\n",
            "\n",
            "Epoch 18 Batch 0 Loss 1.8277\n",
            "Epoch 18 Batch 429 Loss 1.7935\n",
            "Epoch 18 Batch 858 Loss 1.8485\n",
            "Epoch 18 Loss 1.8489\n",
            "Time taken for 1 epoch: 298.76677560806274 secs\n",
            "\n",
            "Epoch 19 Batch 0 Loss 1.6240\n",
            "Epoch 19 Batch 429 Loss 1.7632\n",
            "Epoch 19 Batch 858 Loss 1.8245\n",
            "Epoch 19 Loss 1.8252\n",
            "Time taken for 1 epoch: 298.52965450286865 secs\n",
            "\n",
            "Epoch 20 Batch 0 Loss 1.7538\n",
            "Epoch 20 Batch 429 Loss 1.7412\n",
            "Epoch 20 Batch 858 Loss 1.8018\n",
            "Saving checkpoint for epoch 20 at checkpoints/ckpt-8\n",
            "Epoch 20 Loss 1.8020\n",
            "Time taken for 1 epoch: 299.4963185787201 secs\n",
            "\n"
          ]
        }
      ],
      "source": [
        "for epoch in range(EPOCHS):\n",
        "    start = time.time()\n",
        "\n",
        "    train_loss.reset_states()\n",
        "\n",
        "    for (batch, (inp, tar)) in enumerate(dataset):\n",
        "        train_step(inp, tar)\n",
        "\n",
        "        # 55k samples\n",
        "        # we display 3 batch results -- 0th, middle and last one (approx)\n",
        "        # 55k / 64 ~ 858; 858 / 2 = 429\n",
        "        if batch % 429 == 0:\n",
        "            print ('Epoch {} Batch {} Loss {:.4f}'.format(epoch + 1, batch, train_loss.result()))\n",
        "\n",
        "    if (epoch + 1) % 5 == 0:\n",
        "        ckpt_save_path = ckpt_manager.save()\n",
        "        print ('Saving checkpoint for epoch {} at {}'.format(epoch+1, ckpt_save_path))\n",
        "\n",
        "    print ('Epoch {} Loss {:.4f}'.format(epoch + 1, train_loss.result()))\n",
        "\n",
        "    print ('Time taken for 1 epoch: {} secs\\n'.format(time.time() - start))\n"
      ]
    },
    {
      "cell_type": "markdown",
      "metadata": {
        "id": "PVbEUCZagJ0G"
      },
      "source": [
        "### Inference"
      ]
    },
    {
      "cell_type": "markdown",
      "metadata": {
        "id": "YMbqGTixu1cl"
      },
      "source": [
        "#### Predicting one word at a time at the decoder and appending it to the output; then taking the complete sequence as an input to the decoder and repeating until maxlen or stop keyword appears"
      ]
    },
    {
      "cell_type": "code",
      "execution_count": null,
      "metadata": {
        "id": "F5D5cv2Jd8-6"
      },
      "outputs": [],
      "source": [
        "def evaluate(input_document):\n",
        "    input_document = document_tokenizer.texts_to_sequences([input_document])\n",
        "    input_document = tf.keras.preprocessing.sequence.pad_sequences(input_document, maxlen=encoder_maxlen, padding='post', truncating='post')\n",
        "\n",
        "    encoder_input = tf.expand_dims(input_document[0], 0)\n",
        "\n",
        "    decoder_input = [summary_tokenizer.word_index[\"<go>\"]]\n",
        "    output = tf.expand_dims(decoder_input, 0)\n",
        "\n",
        "    for i in range(decoder_maxlen):\n",
        "        enc_padding_mask, combined_mask, dec_padding_mask = create_masks(encoder_input, output)\n",
        "\n",
        "        predictions, attention_weights = transformer(\n",
        "            encoder_input,\n",
        "            output,\n",
        "            False,\n",
        "            enc_padding_mask,\n",
        "            combined_mask,\n",
        "            dec_padding_mask\n",
        "        )\n",
        "\n",
        "        predictions = predictions[: ,-1:, :]\n",
        "        predicted_id = tf.cast(tf.argmax(predictions, axis=-1), tf.int32)\n",
        "\n",
        "        if predicted_id == summary_tokenizer.word_index[\"<stop>\"]:\n",
        "            return tf.squeeze(output, axis=0), attention_weights\n",
        "\n",
        "        output = tf.concat([output, predicted_id], axis=-1)\n",
        "\n",
        "    return tf.squeeze(output, axis=0), attention_weights\n"
      ]
    },
    {
      "cell_type": "code",
      "execution_count": null,
      "metadata": {
        "id": "UkpdiW6wnmiS"
      },
      "outputs": [],
      "source": [
        "def summarize(input_document):\n",
        "\n",
        "    summarized = evaluate(input_document=input_document)[0].numpy()\n",
        "    summarized = np.expand_dims(summarized[1:], 0)  # not printing <go> token\n",
        "    return summary_tokenizer.sequences_to_texts(summarized)[0]  # since there is just one translated document"
      ]
    },
    {
      "cell_type": "code",
      "execution_count": null,
      "metadata": {
        "colab": {
          "base_uri": "https://localhost:8080/",
          "height": 34
        },
        "id": "WZoEHvIxrYKZ",
        "outputId": "64212034-ffda-41f2-c830-fc1f17c674e6"
      },
      "outputs": [
        {
          "data": {
            "text/plain": [
              "'reliance group buys stake in net profit for 250 bn'"
            ]
          },
          "execution_count": 94,
          "metadata": {
            "tags": []
          },
          "output_type": "execute_result"
        }
      ],
      "source": [
        "summarize(\n",
        "    \"US-based private equity firm General Atlantic is in talks to invest about \\\n",
        "    $850 million to $950 million in Reliance Industries' digital unit Jio \\\n",
        "    Platforms, the Bloomberg reported. Saudi Arabia's $320 billion sovereign \\\n",
        "    wealth fund is reportedly also exploring a potential investment in the \\\n",
        "    Mukesh Ambani-led company. The 'Public Investment Fund' i s looking to \\\n",
        "    acquire a minority stake in Jio Platforms.\"\n",
        ")"
      ]
    }
  ],
  "metadata": {
    "accelerator": "GPU",
    "colab": {
      "provenance": [],
      "include_colab_link": true
    },
    "kernelspec": {
      "display_name": "Python 3",
      "language": "python",
      "name": "python3"
    },
    "language_info": {
      "codemirror_mode": {
        "name": "ipython",
        "version": 3
      },
      "file_extension": ".py",
      "mimetype": "text/x-python",
      "name": "python",
      "nbconvert_exporter": "python",
      "pygments_lexer": "ipython3",
      "version": "3.8.3"
    }
  },
  "nbformat": 4,
  "nbformat_minor": 0
}